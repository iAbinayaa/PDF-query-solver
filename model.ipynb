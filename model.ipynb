{
 "cells": [
  {
   "cell_type": "code",
   "execution_count": 2,
   "metadata": {},
   "outputs": [
    {
     "name": "stdout",
     "output_type": "stream",
     "text": [
      "Answer: Core type transformer and (ii) Shell type transformer\n"
     ]
    }
   ],
   "source": [
    "from transformers import AutoModelForQuestionAnswering, AutoTokenizer, pipeline\n",
    "from langchain.vectorstores import FAISS\n",
    "from langchain.embeddings import HuggingFaceEmbeddings\n",
    "from PyPDF2 import PdfReader\n",
    "from langchain.text_splitter import RecursiveCharacterTextSplitter\n",
    "import torch\n",
    "\n",
    "device = 0 if torch.cuda.is_available() else -1\n",
    "\n",
    "# Load model and tokenizer for question-answering\n",
    "model_path = \"distilbert-base-uncased-distilled-squad\"\n",
    "model = AutoModelForQuestionAnswering.from_pretrained(model_path).to(device)\n",
    "tokenizer = AutoTokenizer.from_pretrained(model_path)\n",
    "qa_pipeline = pipeline(\"question-answering\", model=model, tokenizer=tokenizer,device=0)\n",
    "\n",
    "def get_pdf_text(pdf_path):\n",
    "    text = \"\"\n",
    "    pdf_reader = PdfReader(pdf_path)\n",
    "    for page in pdf_reader.pages:\n",
    "        text += page.extract_text()\n",
    "    return text\n",
    "\n",
    "def get_text_chunks(text):\n",
    "    text_splitter = RecursiveCharacterTextSplitter(chunk_size=1000, chunk_overlap=200)\n",
    "    chunks = text_splitter.split_text(text)\n",
    "    return chunks\n",
    "\n",
    "def create_faiss_vector_store(chunks):\n",
    "    embeddings = HuggingFaceEmbeddings(model_name=\"sentence-transformers/all-MiniLM-L12-v2\")\n",
    "    vectorstore = FAISS.from_texts(texts=chunks, embedding=embeddings)\n",
    "    return vectorstore\n",
    "\n",
    "def answer_question(question, vectorstore):\n",
    "    # Retrieve relevant documents\n",
    "    relevant_docs = vectorstore.similarity_search(question)\n",
    "    context = \" \".join([doc.page_content for doc in relevant_docs])\n",
    "    \n",
    "    # Format question and context for QA pipeline\n",
    "    qa_input = {\"question\": question, \"context\": context}\n",
    "    \n",
    "    # Get answer from the QA pipeline\n",
    "    response = qa_pipeline(qa_input)\n",
    "    return response[\"answer\"]\n",
    "\n",
    "# Main logic\n",
    "if __name__ == \"__main__\":\n",
    "    pdf_path = \"transformer.pdf\"  # Path to your PDF file\n",
    "    question = \"what is transformers wrt to llms\"\n",
    "    \n",
    "    # Process PDF and create vector store\n",
    "    text = get_pdf_text(pdf_path)\n",
    "    text_chunks = get_text_chunks(text)\n",
    "    vectorstore = create_faiss_vector_store(text_chunks)\n",
    "    \n",
    "    # Answer the question\n",
    "    answer = answer_question(question, vectorstore)\n",
    "    print(\"Answer:\", answer)\n"
   ]
  },
  {
   "cell_type": "code",
   "execution_count": null,
   "metadata": {},
   "outputs": [],
   "source": []
  }
 ],
 "metadata": {
  "kernelspec": {
   "display_name": "alemeno",
   "language": "python",
   "name": "python3"
  },
  "language_info": {
   "codemirror_mode": {
    "name": "ipython",
    "version": 3
   },
   "file_extension": ".py",
   "mimetype": "text/x-python",
   "name": "python",
   "nbconvert_exporter": "python",
   "pygments_lexer": "ipython3",
   "version": "3.8.19"
  }
 },
 "nbformat": 4,
 "nbformat_minor": 2
}
